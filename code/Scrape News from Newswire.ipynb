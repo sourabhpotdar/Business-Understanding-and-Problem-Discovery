{
 "cells": [
  {
   "cell_type": "code",
   "execution_count": 1,
   "metadata": {},
   "outputs": [],
   "source": [
    "from requests_html import HTMLSession\n",
    "import pandas as pd\n",
    "from time import sleep\n",
    "import requests\n",
    "\n",
    "# keep track of loading progress\n",
    "from tqdm.notebook import tqdm\n",
    "\n",
    "import pathlib\n",
    "import time"
   ]
  },
  {
   "cell_type": "code",
   "execution_count": 2,
   "metadata": {},
   "outputs": [],
   "source": [
    "def get_ticker(url, session):\n",
    "    r = session.get(url)\n",
    "    content = r.html.find('section.release-body')\n",
    "    try:\n",
    "        for item in content:\n",
    "            ticker = item.find('a.ticket-symbol', first=True).text\n",
    "    except AttributeError:\n",
    "        ticker = None\n",
    "    try:\n",
    "        return ticker\n",
    "    except UnboundLocalError:\n",
    "        return None # Return non if no tickers found"
   ]
  },
  {
   "cell_type": "code",
   "execution_count": 3,
   "metadata": {},
   "outputs": [],
   "source": [
    "def get_page_details(x, session,data=[]):\n",
    "    url = f'https://www.prnewswire.com/news-releases/news-releases-list/?page={x}&pagesize=100'\n",
    "    r = session.get(url)\n",
    "    content = r.html.find('div.row.arabiclistingcards')\n",
    "    for item in tqdm(content, desc='Parsing page...\\t', leave=False):\n",
    "        date = item.find('h3', first=True).text.split('ET')[-2]\n",
    "        title = item.find('h3', first=True).text.split('ET')[-1]\n",
    "        article_url = 'https://www.prnewswire.com' + item.find('a.newsreleaseconsolidatelink', first=True).attrs['href']\n",
    "        ticker = get_ticker(article_url, session)\n",
    "        try:\n",
    "            dic = {\n",
    "              'Date': pd.to_datetime(date),\n",
    "              'Title': title,\n",
    "              'Ticker': ticker,\n",
    "              'Article URL': article_url\n",
    "            }\n",
    "            data.append(dic)\n",
    "        except Exception:\n",
    "            pass\n",
    "        \n",
    "    return data"
   ]
  },
  {
   "cell_type": "code",
   "execution_count": 4,
   "metadata": {},
   "outputs": [],
   "source": [
    "def get_news(pages):\n",
    "    session = HTMLSession()\n",
    "    data = []\n",
    "\n",
    "    for x in tqdm(range(1, pages+1), desc='Loading Pages...\\t'):\n",
    "        get_page_details(x, session,data)\n",
    "    \n",
    "    df = pd.DataFrame(data)\n",
    "    return df"
   ]
  },
  {
   "cell_type": "code",
   "execution_count": 5,
   "metadata": {},
   "outputs": [
    {
     "data": {
      "application/vnd.jupyter.widget-view+json": {
       "model_id": "bfdfabeac785470ab53f776c0ef80a0b",
       "version_major": 2,
       "version_minor": 0
      },
      "text/plain": [
       "HBox(children=(HTML(value='Loading Pages...\\t'), FloatProgress(value=0.0, max=2.0), HTML(value='')))"
      ]
     },
     "metadata": {},
     "output_type": "display_data"
    },
    {
     "data": {
      "application/vnd.jupyter.widget-view+json": {
       "model_id": "",
       "version_major": 2,
       "version_minor": 0
      },
      "text/plain": [
       "HBox(children=(HTML(value='Parsing page...\\t'), FloatProgress(value=0.0), HTML(value='')))"
      ]
     },
     "metadata": {},
     "output_type": "display_data"
    },
    {
     "data": {
      "application/vnd.jupyter.widget-view+json": {
       "model_id": "",
       "version_major": 2,
       "version_minor": 0
      },
      "text/plain": [
       "HBox(children=(HTML(value='Parsing page...\\t'), FloatProgress(value=0.0), HTML(value='')))"
      ]
     },
     "metadata": {},
     "output_type": "display_data"
    },
    {
     "name": "stdout",
     "output_type": "stream",
     "text": [
      "\n"
     ]
    }
   ],
   "source": [
    "df = get_news(2)"
   ]
  },
  {
   "cell_type": "code",
   "execution_count": 6,
   "metadata": {},
   "outputs": [
    {
     "name": "stdout",
     "output_type": "stream",
     "text": [
      "                   Date                                              Title  \\\n",
      "0   2021-11-21 21:27:00   Ding Lei: New Ultra-Futuristic HiPhi Z from H...   \n",
      "1   2021-11-21 21:15:00   Pace raises USD40 million Series A funding fr...   \n",
      "2   2021-11-21 20:53:00            Lanvin Group Unveils New Brand Identity   \n",
      "3   2021-11-21 20:41:00   Aston Martin Vantage mit BAPE+GEEKVAPE-Beschi...   \n",
      "4   2021-11-21 20:34:00   New Models, New Energy | GAC at the Auto Guan...   \n",
      "..                  ...                                                ...   \n",
      "194 2021-11-19 17:42:00   Lucid Named To Inaugural Inc. Best-Led Compan...   \n",
      "195 2021-11-19 17:41:00   Nabors Energy Transition Corp. Announces Clos...   \n",
      "196 2021-11-19 17:39:00   Cyber Defense Labs' CEO Robert Anderson Jr, N...   \n",
      "197 2021-11-19 17:30:00   Agnico Eagle and Kirkland Lake Gold Remind Sh...   \n",
      "198 2021-11-19 17:30:00   Water Bottles with Filters Market Size to inc...   \n",
      "\n",
      "    Ticker                                        Article URL  \n",
      "0     None  https://www.prnewswire.com/news-releases/ding-...  \n",
      "1     None  https://www.prnewswire.com/news-releases/pace-...  \n",
      "2     None  https://www.prnewswire.com/news-releases/lanvi...  \n",
      "3     None  https://www.prnewswire.com/news-releases/aston...  \n",
      "4     None  https://www.prnewswire.com/news-releases/new-m...  \n",
      "..     ...                                                ...  \n",
      "194   None  https://www.prnewswire.com/news-releases/lucid...  \n",
      "195   None  https://www.prnewswire.com/news-releases/nabor...  \n",
      "196   None  https://www.prnewswire.com/news-releases/cyber...  \n",
      "197    AEM  https://www.prnewswire.com/news-releases/agnic...  \n",
      "198   None  https://www.prnewswire.com/news-releases/water...  \n",
      "\n",
      "[199 rows x 4 columns]\n"
     ]
    }
   ],
   "source": [
    "print(df)"
   ]
  },
  {
   "cell_type": "code",
   "execution_count": 7,
   "metadata": {},
   "outputs": [],
   "source": [
    "df.to_csv('Outputfile.csv', index=False)"
   ]
  },
  {
   "cell_type": "code",
   "execution_count": null,
   "metadata": {},
   "outputs": [],
   "source": []
  }
 ],
 "metadata": {
  "kernelspec": {
   "display_name": "Python 3",
   "language": "python",
   "name": "python3"
  },
  "language_info": {
   "codemirror_mode": {
    "name": "ipython",
    "version": 3
   },
   "file_extension": ".py",
   "mimetype": "text/x-python",
   "name": "python",
   "nbconvert_exporter": "python",
   "pygments_lexer": "ipython3",
   "version": "3.8.5"
  }
 },
 "nbformat": 4,
 "nbformat_minor": 4
}

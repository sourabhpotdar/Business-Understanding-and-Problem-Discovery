{
 "cells": [
  {
   "cell_type": "raw",
   "metadata": {},
   "source": [
    "def get_ticker(url, session):\n",
    "    r = session.get(url)\n",
    "    content = r.html.find('section.release-body')\n",
    "    try:\n",
    "        for item in content:\n",
    "            ticker = item.find('a.ticket-symbol', first=True).text\n",
    "    except AttributeError:\n",
    "        ticker = None\n",
    "    try:\n",
    "        return ticker\n",
    "    except UnboundLocalError:\n",
    "        return None # Return non if no tickers found"
   ]
  },
  {
   "cell_type": "code",
   "execution_count": 3,
   "metadata": {},
   "outputs": [],
   "source": [
    "def get_page_details(x, session,data=[]):\n",
    "    url = f'https://www.prnewswire.com/news-releases/news-releases-list/?page={x}&pagesize=100'\n",
    "    r = session.get(url)\n",
    "    content = r.html.find('div.row.arabiclistingcards')\n",
    "    for item in tqdm(content, desc='Parsing page...\\t', leave=False):\n",
    "        date = item.find('h3', first=True).text.split('ET')[-2]\n",
    "        title = item.find('h3', first=True).text.split('ET')[-1]\n",
    "        article_url = 'https://www.prnewswire.com' + item.find('a.newsreleaseconsolidatelink', first=True).attrs['href']\n",
    "        ticker = get_ticker(article_url, session)\n",
    "        try:\n",
    "            dic = {\n",
    "              'Date': pd.to_datetime(date),\n",
    "              'Title': title,\n",
    "              'Ticker': ticker,\n",
    "              'Article URL': article_url\n",
    "            }\n",
    "            data.append(dic)\n",
    "        except Exception:\n",
    "            pass\n",
    "        \n",
    "    return data"
   ]
  },
  {
   "cell_type": "code",
   "execution_count": 4,
   "metadata": {},
   "outputs": [],
   "source": [
    "def get_news(pages):\n",
    "    session = HTMLSession()\n",
    "    data = []\n",
    "\n",
    "    for x in tqdm(range(1, pages+1), desc='Loading Pages...\\t'):\n",
    "        get_page_details(x, session,data)\n",
    "    \n",
    "    df = pd.DataFrame(data)\n",
    "    return df"
   ]
  },
  {
   "cell_type": "code",
   "execution_count": 5,
   "metadata": {},
   "outputs": [
    {
     "data": {
      "application/vnd.jupyter.widget-view+json": {
       "model_id": "d8aaf774125c47f29d8be464c50397c2",
       "version_major": 2,
       "version_minor": 0
      },
      "text/plain": [
       "Loading Pages...\t:   0%|          | 0/2 [00:00<?, ?it/s]"
      ]
     },
     "metadata": {},
     "output_type": "display_data"
    },
    {
     "data": {
      "application/vnd.jupyter.widget-view+json": {
       "model_id": "949d9f7c8c7b4a5bb5ca6d2e07e36766",
       "version_major": 2,
       "version_minor": 0
      },
      "text/plain": [
       "Parsing page...\t:   0%|          | 0/100 [00:00<?, ?it/s]"
      ]
     },
     "metadata": {},
     "output_type": "display_data"
    },
    {
     "data": {
      "application/vnd.jupyter.widget-view+json": {
       "model_id": "3f009ea57f284758a7cf8751b8313920",
       "version_major": 2,
       "version_minor": 0
      },
      "text/plain": [
       "Parsing page...\t:   0%|          | 0/100 [00:00<?, ?it/s]"
      ]
     },
     "metadata": {},
     "output_type": "display_data"
    }
   ],
   "source": [
    "df = get_news(2)"
   ]
  },
  {
   "cell_type": "code",
   "execution_count": 6,
   "metadata": {},
   "outputs": [
    {
     "name": "stdout",
     "output_type": "stream",
     "text": [
      "                   Date                                              Title  \\\n",
      "0   2021-11-27 12:14:00   Tendances crypto dans l'iGaming : aperçus de ...   \n",
      "1   2021-11-27 12:09:00       Krypto-Trends im iGaming: SOFTSWISS Insights   \n",
      "2   2021-11-27 11:13:00                 GAC MOTOR comemora um ano no Chile   \n",
      "3   2021-11-27 11:00:00   BlueVine Announces U.S. Small Business Resili...   \n",
      "4   2021-11-27 09:30:00   Secondary Market Research Sourcing and Procur...   \n",
      "..                  ...                                                ...   \n",
      "194 2021-11-26 08:33:00   UPL Ranked No.1 For Sustainability Performanc...   \n",
      "195 2021-11-26 08:33:00   Insulin-Science Based App Launches During Nat...   \n",
      "196 2021-11-26 08:32:00      Omaha Company Swings into Holiday Giving Mode   \n",
      "197 2021-11-26 08:32:00   Apparel Boss is Now the Official Clothing & A...   \n",
      "198 2021-11-26 08:31:00   Goals Plastic Surgery Expanding to a New Broo...   \n",
      "\n",
      "    Ticker                                        Article URL  \n",
      "0     None  https://www.prnewswire.com/news-releases/tenda...  \n",
      "1     None  https://www.prnewswire.com/news-releases/krypt...  \n",
      "2     None  https://www.prnewswire.com/news-releases/gac-m...  \n",
      "3     None  https://www.prnewswire.com/news-releases/bluev...  \n",
      "4     None  https://www.prnewswire.com/news-releases/secon...  \n",
      "..     ...                                                ...  \n",
      "194   None  https://www.prnewswire.com/news-releases/upl-r...  \n",
      "195   None  https://www.prnewswire.com/news-releases/insul...  \n",
      "196   None  https://www.prnewswire.com/news-releases/omaha...  \n",
      "197   None  https://www.prnewswire.com/news-releases/appar...  \n",
      "198   None  https://www.prnewswire.com/news-releases/goals...  \n",
      "\n",
      "[199 rows x 4 columns]\n"
     ]
    }
   ],
   "source": [
    "print(df)"
   ]
  },
  {
   "cell_type": "code",
   "execution_count": 7,
   "metadata": {},
   "outputs": [],
   "source": [
    "df.to_csv('Outputfile.csv', index=False)"
   ]
  },
  {
   "cell_type": "code",
   "execution_count": null,
   "metadata": {},
   "outputs": [],
   "source": []
  }
 ],
 "metadata": {
  "kernelspec": {
   "display_name": "Python 3 (ipykernel)",
   "language": "python",
   "name": "python3"
  },
  "language_info": {
   "codemirror_mode": {
    "name": "ipython",
    "version": 3
   },
   "file_extension": ".py",
   "mimetype": "text/x-python",
   "name": "python",
   "nbconvert_exporter": "python",
   "pygments_lexer": "ipython3",
   "version": "3.9.7"
  }
 },
 "nbformat": 4,
 "nbformat_minor": 4
}

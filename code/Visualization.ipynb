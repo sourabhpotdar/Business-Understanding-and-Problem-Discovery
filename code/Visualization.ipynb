{
 "cells": [
  {
   "cell_type": "markdown",
   "metadata": {},
   "source": [
    "## Section 3.2 : Visualize\n",
    "<hr>\n",
    "\n",
    "To visualize the data which has been exracted from the Yahoo Finance page we use the following graphs:<br>\n",
    " - <B>Bar graph</B><br>\n",
    "     Variation in stock price for the top occuring ticker against time <br>\n",
    "    \n",
    " - <B>Line Graph</B> <br>\n",
    "     Close price and moving average for the top occuring stock against time<br>\n",
    "     Market cap against time for all the stocks\n",
    "     "
   ]
  },
  {
   "cell_type": "code",
   "execution_count": 20,
   "metadata": {},
   "outputs": [],
   "source": [
    "import numpy as np\n",
    "import pandas as pd\n",
    "import matplotlib.pyplot as plt\n",
    "%matplotlib inline"
   ]
  },
  {
   "cell_type": "code",
   "execution_count": 21,
   "metadata": {},
   "outputs": [],
   "source": [
    "import pandas_datareader\n",
    "import datetime\n",
    "import pandas_datareader.data as web  \n"
   ]
  },
  {
   "cell_type": "code",
   "execution_count": null,
   "metadata": {},
   "outputs": [],
   "source": [
    "pip install pandas_datareader"
   ]
  },
  {
   "cell_type": "code",
   "execution_count": null,
   "metadata": {},
   "outputs": [],
   "source": [
    "#Read the csv file containing the data for the top five tickers and store it in a dataset\n",
    "Stockdata=pd.read_csv('./tickers.csv')\n",
    "Stockdata.head()\n",
    "#Convert string Date time to python date time in the format YYYY-MM-DD\n",
    "Stockdata['Date'] = pd.to_datetime(Stockdata['Date'], format = '%Y-%m-%d')\n",
    "#Create a new column 'MA10' to store the moving averages for the last 10 days\n",
    "Stockdata['MA10']=Stockdata['Close'].rolling(10).mean()\n",
    "#Create a new column 'Variation' to store the difference between High and Low price of the stock\n",
    "Stockdata['Variation']=Stockdata['High']-Stockdata['Low']\n",
    "#Create a new column 'MarktCap' to store calculated market cap of the stock i.e Open price*Volume.\n",
    "Stockdata['MarktCap'] = Stockdata['Open'] * Stockdata['Volume']\n",
    "\n",
    "# create a list of unique tickers\n",
    "ticker_list = Stockdata['Ticker'].unique()\n",
    "stock_details = {}\n",
    "\n",
    "#loop throught the tickers and create a seperate pandas dataframe for all the tickers\n",
    "for tick in ticker_list:\n",
    "    stock_details[tick] = Stockdata[Stockdata['Ticker']==tick]\n"
   ]
  },
  {
   "cell_type": "code",
   "execution_count": null,
   "metadata": {},
   "outputs": [],
   "source": [
    "pip install plotly.express"
   ]
  },
  {
   "cell_type": "code",
   "execution_count": null,
   "metadata": {},
   "outputs": [],
   "source": [
    "pip install --upgrade plotly "
   ]
  },
  {
   "cell_type": "code",
   "execution_count": null,
   "metadata": {},
   "outputs": [],
   "source": [
    "\n",
    "import plotly.express as px\n",
    "\n",
    "#get the top occuring ticker from the tickers.csv file\n",
    "stock_1 = stock_details[ticker_list[0]]\n",
    "\n",
    "a=stock_1[\"Date\"]\n",
    "b=stock_1[\"Close\"]\n",
    "c=stock_1[\"Open\"]\n",
    "d=stock_1[\"High\"]\n",
    "e=stock_1[\"Low\"]\n",
    "f=stock_1[\"Variation\"]\n",
    "g=stock_1[\"MA10\"]\n",
    "h=stock_1[\"Volume\"]\n",
    "\n",
    "\n",
    "data_stock = {\n",
    "\"Date\": a,\n",
    "\"Close\":b,\n",
    "\"Open\":c,\n",
    "\"High\":d,\n",
    "\"Low\":e,\n",
    "\"Variation\": f,\n",
    "\"MA10\":g,\n",
    "\"Volume\":h\n",
    "\n",
    "}\n",
    "\n",
    "#Store the values of the top ticker in a dataframe\n",
    "df = pd.DataFrame(data_stock)\n",
    "df = df.sort_values(by=\"Date\")\n",
    "\n",
    "\n",
    "#Plot the bar graph showing the variation in stock price for the top ticker against time\n",
    "fig1 = px.bar(df, x=\"Date\", y=\"Variation\", title=\"Variation in stock price by date-\"+ticker_list[0])\n",
    "fig1.show()\n",
    "\n"
   ]
  },
  {
   "cell_type": "code",
   "execution_count": null,
   "metadata": {},
   "outputs": [],
   "source": [
    "#Plot a line graph with the close price and moving average for the top occuring stock against time\n",
    "fig1 = px.line(df, x=\"Date\", y=[\"Close\",\"MA10\"], title=\"Close price and Moving average-\"+ticker_list[0])\n",
    "fig1.show()"
   ]
  },
  {
   "cell_type": "code",
   "execution_count": null,
   "metadata": {},
   "outputs": [],
   "source": [
    "#Sort the date column\n",
    "Stockdata = Stockdata.sort_values(by=\"Date\")\n",
    "#Plot a line graph with Market cap against time for all the stocks to compare their worth\n",
    "fig1 = px.line(df, x=Stockdata[\"Date\"], y=Stockdata[\"MarktCap\"], title=\"Market capitalisation by date\",color=Stockdata[\"Ticker\"])\n",
    "fig1.show()"
   ]
  },
  {
   "cell_type": "code",
   "execution_count": null,
   "metadata": {},
   "outputs": [],
   "source": []
  }
 ],
 "metadata": {
  "kernelspec": {
   "display_name": "Python 3",
   "language": "python",
   "name": "python3"
  },
  "language_info": {
   "codemirror_mode": {
    "name": "ipython",
    "version": 3
   },
   "file_extension": ".py",
   "mimetype": "text/x-python",
   "name": "python",
   "nbconvert_exporter": "python",
   "pygments_lexer": "ipython3",
   "version": "3.8.5"
  }
 },
 "nbformat": 4,
 "nbformat_minor": 4
}

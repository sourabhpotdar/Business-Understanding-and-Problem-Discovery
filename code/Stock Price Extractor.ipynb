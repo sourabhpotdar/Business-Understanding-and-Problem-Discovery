{
 "cells": [
  {
   "cell_type": "markdown",
   "id": "ae6af1f7",
   "metadata": {},
   "source": [
    "## Section 3.1: Extract data from Yahoo! Finance page\n",
    "\n",
    " - Load the yfinance module\n",
    " - Scan `Yahoo! Finance` page for the stock symbols that appeared in the news\n",
    " - Capture/retrieve the `stock price` and `volume` for `last 30 days`."
   ]
  },
  {
   "cell_type": "code",
   "execution_count": 44,
   "id": "fa7cc586",
   "metadata": {},
   "outputs": [],
   "source": [
    "import pandas as pd\n",
    "from datetime import date, timedelta"
   ]
  },
  {
   "cell_type": "code",
   "execution_count": 1,
   "id": "3dd2b4cb",
   "metadata": {
    "scrolled": true
   },
   "outputs": [
    {
     "name": "stdout",
     "output_type": "stream",
     "text": [
      "Installing Yahoo! Finance python module.\n",
      "\n",
      "Collecting yfinance\n",
      "  Downloading yfinance-0.1.67-py2.py3-none-any.whl (25 kB)\n",
      "Collecting multitasking>=0.0.7\n",
      "  Downloading multitasking-0.0.10.tar.gz (8.2 kB)\n",
      "Requirement already satisfied: pandas>=0.24 in c:\\users\\ramasubramanian\\appdata\\local\\programs\\python\\python39\\lib\\site-packages (from yfinance) (1.3.3)\n",
      "Requirement already satisfied: numpy>=1.15 in c:\\users\\ramasubramanian\\appdata\\local\\programs\\python\\python39\\lib\\site-packages (from yfinance) (1.21.2)\n",
      "Requirement already satisfied: requests>=2.20 in c:\\users\\ramasubramanian\\appdata\\local\\programs\\python\\python39\\lib\\site-packages (from yfinance) (2.26.0)\n",
      "Requirement already satisfied: lxml>=4.5.1 in c:\\users\\ramasubramanian\\appdata\\local\\programs\\python\\python39\\lib\\site-packages (from yfinance) (4.6.4)\n",
      "Requirement already satisfied: pytz>=2017.3 in c:\\users\\ramasubramanian\\appdata\\local\\programs\\python\\python39\\lib\\site-packages (from pandas>=0.24->yfinance) (2021.1)\n",
      "Requirement already satisfied: python-dateutil>=2.7.3 in c:\\users\\ramasubramanian\\appdata\\local\\programs\\python\\python39\\lib\\site-packages (from pandas>=0.24->yfinance) (2.8.2)\n",
      "Requirement already satisfied: six>=1.5 in c:\\users\\ramasubramanian\\appdata\\local\\programs\\python\\python39\\lib\\site-packages (from python-dateutil>=2.7.3->pandas>=0.24->yfinance) (1.16.0)\n",
      "Requirement already satisfied: charset-normalizer~=2.0.0 in c:\\users\\ramasubramanian\\appdata\\local\\programs\\python\\python39\\lib\\site-packages (from requests>=2.20->yfinance) (2.0.6)\n",
      "Requirement already satisfied: certifi>=2017.4.17 in c:\\users\\ramasubramanian\\appdata\\local\\programs\\python\\python39\\lib\\site-packages (from requests>=2.20->yfinance) (2021.5.30)\n",
      "Requirement already satisfied: urllib3<1.27,>=1.21.1 in c:\\users\\ramasubramanian\\appdata\\local\\programs\\python\\python39\\lib\\site-packages (from requests>=2.20->yfinance) (1.26.7)\n",
      "Requirement already satisfied: idna<4,>=2.5 in c:\\users\\ramasubramanian\\appdata\\local\\programs\\python\\python39\\lib\\site-packages (from requests>=2.20->yfinance) (3.2)\n",
      "Using legacy 'setup.py install' for multitasking, since package 'wheel' is not installed.\n",
      "Installing collected packages: multitasking, yfinance\n",
      "    Running setup.py install for multitasking: started\n",
      "    Running setup.py install for multitasking: finished with status 'done'\n",
      "Successfully installed multitasking-0.0.10 yfinance-0.1.67\n"
     ]
    },
    {
     "name": "stderr",
     "output_type": "stream",
     "text": [
      "WARNING: You are using pip version 21.2.4; however, version 21.3.1 is available.\n",
      "You should consider upgrading via the 'C:\\Users\\Ramasubramanian\\AppData\\Local\\Programs\\Python\\Python39\\python.exe -m pip install --upgrade pip' command.\n"
     ]
    },
    {
     "name": "stdout",
     "output_type": "stream",
     "text": [
      "Yahoo! Finance module loaded.\n"
     ]
    }
   ],
   "source": [
    "#Loading yfinance module and installing it if it doesn't already exist\n",
    "try:\n",
    "    success_msg = 'Yahoo! Finance module loaded.'\n",
    "    import yfinance as yf\n",
    "    print(success_msg)\n",
    "except ModuleNotFoundError as e:\n",
    "    print('Installing Yahoo! Finance python module.\\n')\n",
    "    !pip install yfinance\n",
    "    import yfinance as yf\n",
    "    print(success_msg)"
   ]
  },
  {
   "cell_type": "code",
   "execution_count": 6,
   "id": "f50e9e7a",
   "metadata": {},
   "outputs": [],
   "source": [
    "df = pd.read_csv('./Outputfile.csv')"
   ]
  },
  {
   "cell_type": "code",
   "execution_count": 7,
   "id": "1e331dfd",
   "metadata": {},
   "outputs": [
    {
     "data": {
      "text/html": [
       "<div>\n",
       "<style scoped>\n",
       "    .dataframe tbody tr th:only-of-type {\n",
       "        vertical-align: middle;\n",
       "    }\n",
       "\n",
       "    .dataframe tbody tr th {\n",
       "        vertical-align: top;\n",
       "    }\n",
       "\n",
       "    .dataframe thead th {\n",
       "        text-align: right;\n",
       "    }\n",
       "</style>\n",
       "<table border=\"1\" class=\"dataframe\">\n",
       "  <thead>\n",
       "    <tr style=\"text-align: right;\">\n",
       "      <th></th>\n",
       "      <th>Date</th>\n",
       "      <th>Title</th>\n",
       "      <th>Ticker</th>\n",
       "      <th>Article URL</th>\n",
       "    </tr>\n",
       "  </thead>\n",
       "  <tbody>\n",
       "    <tr>\n",
       "      <th>0</th>\n",
       "      <td>2021-11-27 12:14:00</td>\n",
       "      <td>Tendances crypto dans l'iGaming : aperçus de ...</td>\n",
       "      <td>NaN</td>\n",
       "      <td>https://www.prnewswire.com/news-releases/tenda...</td>\n",
       "    </tr>\n",
       "    <tr>\n",
       "      <th>1</th>\n",
       "      <td>2021-11-27 12:09:00</td>\n",
       "      <td>Krypto-Trends im iGaming: SOFTSWISS Insights</td>\n",
       "      <td>NaN</td>\n",
       "      <td>https://www.prnewswire.com/news-releases/krypt...</td>\n",
       "    </tr>\n",
       "    <tr>\n",
       "      <th>2</th>\n",
       "      <td>2021-11-27 11:13:00</td>\n",
       "      <td>GAC MOTOR comemora um ano no Chile</td>\n",
       "      <td>NaN</td>\n",
       "      <td>https://www.prnewswire.com/news-releases/gac-m...</td>\n",
       "    </tr>\n",
       "    <tr>\n",
       "      <th>3</th>\n",
       "      <td>2021-11-27 11:00:00</td>\n",
       "      <td>BlueVine Announces U.S. Small Business Resili...</td>\n",
       "      <td>NaN</td>\n",
       "      <td>https://www.prnewswire.com/news-releases/bluev...</td>\n",
       "    </tr>\n",
       "    <tr>\n",
       "      <th>4</th>\n",
       "      <td>2021-11-27 09:30:00</td>\n",
       "      <td>Secondary Market Research Sourcing and Procur...</td>\n",
       "      <td>NaN</td>\n",
       "      <td>https://www.prnewswire.com/news-releases/secon...</td>\n",
       "    </tr>\n",
       "  </tbody>\n",
       "</table>\n",
       "</div>"
      ],
      "text/plain": [
       "                  Date                                              Title  \\\n",
       "0  2021-11-27 12:14:00   Tendances crypto dans l'iGaming : aperçus de ...   \n",
       "1  2021-11-27 12:09:00       Krypto-Trends im iGaming: SOFTSWISS Insights   \n",
       "2  2021-11-27 11:13:00                 GAC MOTOR comemora um ano no Chile   \n",
       "3  2021-11-27 11:00:00   BlueVine Announces U.S. Small Business Resili...   \n",
       "4  2021-11-27 09:30:00   Secondary Market Research Sourcing and Procur...   \n",
       "\n",
       "  Ticker                                        Article URL  \n",
       "0    NaN  https://www.prnewswire.com/news-releases/tenda...  \n",
       "1    NaN  https://www.prnewswire.com/news-releases/krypt...  \n",
       "2    NaN  https://www.prnewswire.com/news-releases/gac-m...  \n",
       "3    NaN  https://www.prnewswire.com/news-releases/bluev...  \n",
       "4    NaN  https://www.prnewswire.com/news-releases/secon...  "
      ]
     },
     "execution_count": 7,
     "metadata": {},
     "output_type": "execute_result"
    }
   ],
   "source": [
    "df.head()"
   ]
  },
  {
   "cell_type": "code",
   "execution_count": 57,
   "id": "0df63525",
   "metadata": {},
   "outputs": [
    {
     "name": "stdout",
     "output_type": "stream",
     "text": [
      "How many stocks do you want to analyze : 5\n"
     ]
    }
   ],
   "source": [
    " num_of_stocks = int(input(\"How many stocks do you want to analyze : \"))"
   ]
  },
  {
   "cell_type": "code",
   "execution_count": 58,
   "id": "b69e0b69",
   "metadata": {},
   "outputs": [
    {
     "name": "stdout",
     "output_type": "stream",
     "text": [
      "['CTXS', 'CPLG', 'GOTU', 'SNAP', 'STNE']\n"
     ]
    }
   ],
   "source": [
    "tickers = df['Ticker'].dropna()\n",
    "top_tickers = tickers.value_counts()[:num_of_stocks].index.tolist()\n",
    "print(top_tickers)"
   ]
  },
  {
   "cell_type": "code",
   "execution_count": 60,
   "id": "ca1341ad",
   "metadata": {},
   "outputs": [
    {
     "name": "stdout",
     "output_type": "stream",
     "text": [
      "[*********************100%***********************]  1 of 1 completed\n",
      "[*********************100%***********************]  1 of 1 completed\n",
      "[*********************100%***********************]  1 of 1 completed\n",
      "[*********************100%***********************]  1 of 1 completed\n",
      "[*********************100%***********************]  1 of 1 completed\n"
     ]
    }
   ],
   "source": [
    "stock_details = []\n",
    "\n",
    "for tick in top_tickers:\n",
    "    stock = yf.Ticker(tick)\n",
    "    stock_details.append(stock)\n",
    "    \n",
    "    temp_stock = yf.download(tick, start=(date.today()-timedelta(days=30)).isoformat(), end=date.today())\n",
    "    temp_stock.to_csv(tick+'.csv', index=False)\n",
    "    \n"
   ]
  },
  {
   "cell_type": "code",
   "execution_count": null,
   "id": "2642239d",
   "metadata": {},
   "outputs": [],
   "source": []
  }
 ],
 "metadata": {
  "kernelspec": {
   "display_name": "Python 3 (ipykernel)",
   "language": "python",
   "name": "python3"
  },
  "language_info": {
   "codemirror_mode": {
    "name": "ipython",
    "version": 3
   },
   "file_extension": ".py",
   "mimetype": "text/x-python",
   "name": "python",
   "nbconvert_exporter": "python",
   "pygments_lexer": "ipython3",
   "version": "3.9.7"
  }
 },
 "nbformat": 4,
 "nbformat_minor": 5
}

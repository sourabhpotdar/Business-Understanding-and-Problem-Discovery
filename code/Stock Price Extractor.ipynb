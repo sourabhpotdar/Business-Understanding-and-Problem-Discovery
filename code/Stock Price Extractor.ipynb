{
 "cells": [
  {
   "cell_type": "markdown",
   "id": "ae6af1f7",
   "metadata": {},
   "source": [
    "## Section 3.1: Extract data from Yahoo! Finance page\n",
    "<hr>\n",
    "\n",
    "This notebook does three things:\n",
    " - Load the ```yfinance``` module and the tickers from the output file of the previous notebook\n",
    " - Gets the top N tickers as specified by the user and gets the corresponding open price, closing price and volume of the stocks for the last 30 days.\n",
    " - Stores the values in a CSV file for further analysis and vizualization"
   ]
  },
  {
   "cell_type": "code",
   "execution_count": null,
   "id": "fa7cc586",
   "metadata": {},
   "outputs": [],
   "source": [
    "import pandas as pd\n",
    "from datetime import date, timedelta"
   ]
  },
  {
   "cell_type": "code",
   "execution_count": null,
   "id": "3dd2b4cb",
   "metadata": {
    "scrolled": true
   },
   "outputs": [],
   "source": [
    "#Loading yfinance module and installing it if it doesn't already exist\n",
    "try:\n",
    "    success_msg = 'Yahoo! Finance module loaded.'\n",
    "    import yfinance as yf\n",
    "    print(success_msg)\n",
    "except ModuleNotFoundError as e:\n",
    "    print('Installing Yahoo! Finance python module.\\n')\n",
    "    !pip install yfinance\n",
    "    import yfinance as yf\n",
    "    print(success_msg)"
   ]
  },
  {
   "cell_type": "code",
   "execution_count": null,
   "id": "f50e9e7a",
   "metadata": {},
   "outputs": [],
   "source": [
    "# load the tickers dataframe from the previous notebook's output csv file\n",
    "df = pd.read_csv('./Outputfile.csv')"
   ]
  },
  {
   "cell_type": "code",
   "execution_count": null,
   "id": "1e331dfd",
   "metadata": {},
   "outputs": [],
   "source": [
    "df.head()"
   ]
  },
  {
   "cell_type": "code",
   "execution_count": null,
   "id": "0df63525",
   "metadata": {},
   "outputs": [],
   "source": [
    "# Get the number of stocks the user wants to analyze\n",
    "num_of_stocks = int(input(\"How many stocks do you want to analyze : \"))"
   ]
  },
  {
   "cell_type": "code",
   "execution_count": null,
   "id": "b69e0b69",
   "metadata": {},
   "outputs": [],
   "source": [
    "# Get the num_of_stocks number of highest occuring tickers from the tickers dataframe \n",
    "tickers = df['Ticker'].dropna()\n",
    "top_tickers = tickers.value_counts()[:num_of_stocks].index.tolist()\n",
    "print(top_tickers)"
   ]
  },
  {
   "cell_type": "markdown",
   "id": "595e568e",
   "metadata": {},
   "source": [
    "Now that we have got the top N tickers we are going to loop through the list og tickers and download the last 1 month historical data using the `yfinance.download()` function. Then we add in the date column and ticker column to the dataset for the purpose of vizualization. Then we merge all the list of stocks and save it in a csv file."
   ]
  },
  {
   "cell_type": "code",
   "execution_count": null,
   "id": "ca1341ad",
   "metadata": {},
   "outputs": [],
   "source": [
    "# create an empty list to store the historical stock details temporarily.\n",
    "temp_dataframes = []\n",
    "# loop through the list of top N tickers and download the historical data (last 1 month) for each\n",
    "for tick in top_tickers:\n",
    "    temp_stock = yf.download(tick, start=(date.today()-timedelta(days=30)).isoformat(), end=date.today())\n",
    "    \n",
    "    # add the date column to the dataframe \n",
    "    date_list = temp_stock.index\n",
    "    temp_stock['Date'] = date_list\n",
    "    temp_stock['Date'] = pd.to_datetime(temp_stock['Date']).dt.strftime('%Y-%m-%d')\n",
    "    \n",
    "    # add the ticker column to the dataframe\n",
    "    temp_stock['Ticker'] = tick\n",
    "    # append the dataframe to the the temp_dataframes list\n",
    "    temp_dataframes.append(temp_stock)\n",
    "\n",
    "# concatenate the list into a pandas dataframe and store it as CSV\n",
    "all_tickers = pd.concat(temp_dataframes)\n",
    "all_tickers.to_csv('Tickers.csv', index=False)\n",
    "    \n"
   ]
  },
  {
   "cell_type": "code",
   "execution_count": null,
   "id": "c82c1476",
   "metadata": {},
   "outputs": [],
   "source": []
  }
 ],
 "metadata": {
  "kernelspec": {
   "display_name": "Python 3 (ipykernel)",
   "language": "python",
   "name": "python3"
  },
  "language_info": {
   "codemirror_mode": {
    "name": "ipython",
    "version": 3
   },
   "file_extension": ".py",
   "mimetype": "text/x-python",
   "name": "python",
   "nbconvert_exporter": "python",
   "pygments_lexer": "ipython3",
   "version": "3.9.7"
  }
 },
 "nbformat": 4,
 "nbformat_minor": 5
}

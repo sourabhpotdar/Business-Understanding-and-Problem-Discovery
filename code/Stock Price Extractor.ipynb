{
 "cells": [
  {
   "cell_type": "markdown",
   "id": "ae6af1f7",
   "metadata": {},
   "source": [
    "## Section 3.1: Extract data from Yahoo! Finance page\n",
    "\n",
    " - Load the yfinance module\n",
    " - Scan `Yahoo! Finance` page for the stock symbols that appeared in the news\n",
    " - Capture/retrieve the `stock price` and `volume` for `last 30 days`."
   ]
  },
  {
   "cell_type": "code",
   "execution_count": 2,
   "id": "fa7cc586",
   "metadata": {},
   "outputs": [],
   "source": [
    "import pandas as pd\n",
    "from datetime import date, timedelta"
   ]
  },
  {
   "cell_type": "code",
   "execution_count": 3,
   "id": "3dd2b4cb",
   "metadata": {
    "scrolled": true
   },
   "outputs": [
    {
     "name": "stdout",
     "output_type": "stream",
     "text": [
      "Yahoo! Finance module loaded.\n"
     ]
    }
   ],
   "source": [
    "#Loading yfinance module and installing it if it doesn't already exist\n",
    "try:\n",
    "    success_msg = 'Yahoo! Finance module loaded.'\n",
    "    import yfinance as yf\n",
    "    print(success_msg)\n",
    "except ModuleNotFoundError as e:\n",
    "    print('Installing Yahoo! Finance python module.\\n')\n",
    "    !pip install yfinance\n",
    "    import yfinance as yf\n",
    "    print(success_msg)"
   ]
  },
  {
   "cell_type": "code",
   "execution_count": 4,
   "id": "f50e9e7a",
   "metadata": {},
   "outputs": [],
   "source": [
    "df = pd.read_csv('./Outputfile.csv')"
   ]
  },
  {
   "cell_type": "code",
   "execution_count": 5,
   "id": "1e331dfd",
   "metadata": {},
   "outputs": [
    {
     "data": {
      "text/html": [
       "<div>\n",
       "<style scoped>\n",
       "    .dataframe tbody tr th:only-of-type {\n",
       "        vertical-align: middle;\n",
       "    }\n",
       "\n",
       "    .dataframe tbody tr th {\n",
       "        vertical-align: top;\n",
       "    }\n",
       "\n",
       "    .dataframe thead th {\n",
       "        text-align: right;\n",
       "    }\n",
       "</style>\n",
       "<table border=\"1\" class=\"dataframe\">\n",
       "  <thead>\n",
       "    <tr style=\"text-align: right;\">\n",
       "      <th></th>\n",
       "      <th>Date</th>\n",
       "      <th>Title</th>\n",
       "      <th>Ticker</th>\n",
       "      <th>Article URL</th>\n",
       "    </tr>\n",
       "  </thead>\n",
       "  <tbody>\n",
       "    <tr>\n",
       "      <th>0</th>\n",
       "      <td>2021-11-27 12:14:00</td>\n",
       "      <td>Tendances crypto dans l'iGaming : aperçus de ...</td>\n",
       "      <td>NaN</td>\n",
       "      <td>https://www.prnewswire.com/news-releases/tenda...</td>\n",
       "    </tr>\n",
       "    <tr>\n",
       "      <th>1</th>\n",
       "      <td>2021-11-27 12:09:00</td>\n",
       "      <td>Krypto-Trends im iGaming: SOFTSWISS Insights</td>\n",
       "      <td>NaN</td>\n",
       "      <td>https://www.prnewswire.com/news-releases/krypt...</td>\n",
       "    </tr>\n",
       "    <tr>\n",
       "      <th>2</th>\n",
       "      <td>2021-11-27 11:13:00</td>\n",
       "      <td>GAC MOTOR comemora um ano no Chile</td>\n",
       "      <td>NaN</td>\n",
       "      <td>https://www.prnewswire.com/news-releases/gac-m...</td>\n",
       "    </tr>\n",
       "    <tr>\n",
       "      <th>3</th>\n",
       "      <td>2021-11-27 11:00:00</td>\n",
       "      <td>BlueVine Announces U.S. Small Business Resili...</td>\n",
       "      <td>NaN</td>\n",
       "      <td>https://www.prnewswire.com/news-releases/bluev...</td>\n",
       "    </tr>\n",
       "    <tr>\n",
       "      <th>4</th>\n",
       "      <td>2021-11-27 09:30:00</td>\n",
       "      <td>Secondary Market Research Sourcing and Procur...</td>\n",
       "      <td>NaN</td>\n",
       "      <td>https://www.prnewswire.com/news-releases/secon...</td>\n",
       "    </tr>\n",
       "  </tbody>\n",
       "</table>\n",
       "</div>"
      ],
      "text/plain": [
       "                  Date                                              Title  \\\n",
       "0  2021-11-27 12:14:00   Tendances crypto dans l'iGaming : aperçus de ...   \n",
       "1  2021-11-27 12:09:00       Krypto-Trends im iGaming: SOFTSWISS Insights   \n",
       "2  2021-11-27 11:13:00                 GAC MOTOR comemora um ano no Chile   \n",
       "3  2021-11-27 11:00:00   BlueVine Announces U.S. Small Business Resili...   \n",
       "4  2021-11-27 09:30:00   Secondary Market Research Sourcing and Procur...   \n",
       "\n",
       "  Ticker                                        Article URL  \n",
       "0    NaN  https://www.prnewswire.com/news-releases/tenda...  \n",
       "1    NaN  https://www.prnewswire.com/news-releases/krypt...  \n",
       "2    NaN  https://www.prnewswire.com/news-releases/gac-m...  \n",
       "3    NaN  https://www.prnewswire.com/news-releases/bluev...  \n",
       "4    NaN  https://www.prnewswire.com/news-releases/secon...  "
      ]
     },
     "execution_count": 5,
     "metadata": {},
     "output_type": "execute_result"
    }
   ],
   "source": [
    "df.head()"
   ]
  },
  {
   "cell_type": "code",
   "execution_count": 6,
   "id": "0df63525",
   "metadata": {},
   "outputs": [
    {
     "name": "stdout",
     "output_type": "stream",
     "text": [
      "How many stocks do you want to analyze : 4\n"
     ]
    }
   ],
   "source": [
    " num_of_stocks = int(input(\"How many stocks do you want to analyze : \"))"
   ]
  },
  {
   "cell_type": "code",
   "execution_count": 7,
   "id": "b69e0b69",
   "metadata": {},
   "outputs": [
    {
     "name": "stdout",
     "output_type": "stream",
     "text": [
      "['CTXS', 'CPLG', 'GOTU', 'SNAP']\n"
     ]
    }
   ],
   "source": [
    "tickers = df['Ticker'].dropna()\n",
    "top_tickers = tickers.value_counts()[:num_of_stocks].index.tolist()\n",
    "print(top_tickers)"
   ]
  },
  {
   "cell_type": "code",
   "execution_count": 11,
   "id": "ca1341ad",
   "metadata": {},
   "outputs": [
    {
     "name": "stdout",
     "output_type": "stream",
     "text": [
      "[*********************100%***********************]  1 of 1 completed\n",
      "[*********************100%***********************]  1 of 1 completed\n",
      "[*********************100%***********************]  1 of 1 completed\n",
      "[*********************100%***********************]  1 of 1 completed\n"
     ]
    }
   ],
   "source": [
    "temp_dataframes = []\n",
    "for tick in top_tickers:\n",
    "    temp_stock = yf.download(tick, start=(date.today()-timedelta(days=30)).isoformat(), end=date.today())\n",
    "    base = date.today()\n",
    "    \n",
    "    date_list = temp_stock.index\n",
    "    temp_stock['Date'] = date_list\n",
    "    temp_stock['Date'] = pd.to_datetime(temp_stock['Date']).dt.strftime('%Y-%m-%d')\n",
    "    temp_stock['Ticker'] = tick\n",
    "    temp_dataframes.append(temp_stock)\n",
    "\n",
    "all_tickers = pd.concat(temp_dataframes)\n",
    "all_tickers.to_csv('Tickers.csv', index=False)\n",
    "    \n"
   ]
  },
  {
   "cell_type": "code",
   "execution_count": null,
   "id": "fc4d8224",
   "metadata": {},
   "outputs": [],
   "source": []
  }
 ],
 "metadata": {
  "kernelspec": {
   "display_name": "Python 3 (ipykernel)",
   "language": "python",
   "name": "python3"
  },
  "language_info": {
   "codemirror_mode": {
    "name": "ipython",
    "version": 3
   },
   "file_extension": ".py",
   "mimetype": "text/x-python",
   "name": "python",
   "nbconvert_exporter": "python",
   "pygments_lexer": "ipython3",
   "version": "3.9.7"
  }
 },
 "nbformat": 4,
 "nbformat_minor": 5
}

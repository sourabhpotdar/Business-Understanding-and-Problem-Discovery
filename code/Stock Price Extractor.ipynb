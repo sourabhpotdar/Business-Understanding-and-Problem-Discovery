{
 "cells": [
  {
   "cell_type": "markdown",
   "id": "ae6af1f7",
   "metadata": {},
   "source": [
    "## Section 3.1: Extract data from Yahoo! Finance page\n",
    "\n",
    " - Load the yfinance module\n",
    " - Scan `Yahoo! Finance` page for the stock symbols that appeared in the news\n",
    " - Capture/retrieve the `stock price` and `volume` for `last 30 days`."
   ]
  },
  {
   "cell_type": "code",
   "execution_count": 1,
   "id": "3dd2b4cb",
   "metadata": {
    "scrolled": true
   },
   "outputs": [
    {
     "name": "stdout",
     "output_type": "stream",
     "text": [
      "Yahoo! Finance module loaded.\n"
     ]
    }
   ],
   "source": [
    "#Loading yfinance module and installing it if it doesn't already exist\n",
    "try:\n",
    "    success_msg = 'Yahoo! Finance module loaded.'\n",
    "    import yfinance as yf\n",
    "    print(success_msg)\n",
    "except ModuleNotFoundError as e:\n",
    "    print('Installing Yahoo! Finance python module.\\n')\n",
    "    !pip install yfinance\n",
    "    import yfinance as yf\n",
    "    print(success_msg)"
   ]
  },
  {
   "cell_type": "code",
   "execution_count": 2,
   "id": "13bec4f7",
   "metadata": {},
   "outputs": [
    {
     "name": "stdout",
     "output_type": "stream",
     "text": [
      "{'zip': '98052-6399', 'sector': 'Technology', 'fullTimeEmployees': 181000, 'longBusinessSummary': 'Microsoft Corporation develops, licenses, and supports software, services, devices, and solutions worldwide. Its Productivity and Business Processes segment offers Office, Exchange, SharePoint, Microsoft Teams, Office 365 Security and Compliance, and Skype for Business, as well as related Client Access Licenses (CAL); Skype, Outlook.com, OneDrive, and LinkedIn; and Dynamics 365, a set of cloud-based and on-premises business solutions for organizations and enterprise divisions. Its Intelligent Cloud segment licenses SQL, Windows Servers, Visual Studio, System Center, and related CALs; GitHub that provides a collaboration platform and code hosting service for developers; and Azure, a cloud platform. It also offers support services and Microsoft consulting services to assist customers in developing, deploying, and managing Microsoft server and desktop solutions; and training and certification on Microsoft products. Its More Personal Computing segment provides Windows original equipment manufacturer (OEM) licensing and other non-volume licensing of the Windows operating system; Windows Commercial, such as volume licensing of the Windows operating system, Windows cloud services, and other Windows commercial offerings; patent licensing; Windows Internet of Things; and MSN advertising. It also offers Surface, PC accessories, PCs, tablets, gaming and entertainment consoles, and other devices; Gaming, including Xbox hardware, and Xbox content and services; video games and third-party video game royalties; and Search, including Bing and Microsoft advertising. It sells its products through OEMs, distributors, and resellers; and directly through digital marketplaces, online stores, and retail stores. It has collaborations with Dynatrace, Inc., Morgan Stanley, Micro Focus, WPP plc, ACI Worldwide, Inc., and iCIMS, Inc., as well as strategic relationships with Avaya Holdings Corp. and wejo Limited. Microsoft Corporation was founded in 1975 and is based in Redmond, Washington.', 'city': 'Redmond', 'phone': '425 882 8080', 'state': 'WA', 'country': 'United States', 'companyOfficers': [], 'website': 'http://www.microsoft.com', 'maxAge': 1, 'address1': 'One Microsoft Way', 'industry': 'Software—Infrastructure', 'ebitdaMargins': 0.48648998, 'profitMargins': 0.38515, 'grossMargins': 0.68864995, 'operatingCashflow': 81945001984, 'revenueGrowth': 0.22, 'operatingMargins': 0.42143002, 'ebitda': 85745000448, 'targetLowPrice': 299.93, 'recommendationKey': 'buy', 'grossProfits': 115856000000, 'freeCashflow': 49819750400, 'targetMedianPrice': 361.5, 'currentPrice': 343.11, 'earningsGrowth': 0.489, 'currentRatio': 2.165, 'returnOnAssets': 0.14589, 'numberOfAnalystOpinions': 38, 'targetMeanPrice': 360.03, 'debtToEquity': 51.938, 'returnOnEquity': 0.49303, 'targetHighPrice': 407, 'totalCash': 130584002560, 'totalDebt': 78934999040, 'totalRevenue': 176250994688, 'totalCashPerShare': 17.393, 'financialCurrency': 'USD', 'revenuePerShare': 23.395, 'quickRatio': 1.961, 'recommendationMean': 1.6, 'exchange': 'NMS', 'shortName': 'Microsoft Corporation', 'longName': 'Microsoft Corporation', 'exchangeTimezoneName': 'America/New_York', 'exchangeTimezoneShortName': 'EST', 'isEsgPopulated': False, 'gmtOffSetMilliseconds': '-18000000', 'quoteType': 'EQUITY', 'symbol': 'MSFT', 'messageBoardId': 'finmb_21835', 'market': 'us_market', 'annualHoldingsTurnover': None, 'enterpriseToRevenue': 14.323, 'beta3Year': None, 'enterpriseToEbitda': 29.441, '52WeekChange': 0.6330018, 'morningStarRiskRating': None, 'forwardEps': 10.53, 'revenueQuarterlyGrowth': None, 'sharesOutstanding': 7507979776, 'fundInceptionDate': None, 'annualReportExpenseRatio': None, 'totalAssets': None, 'bookValue': 20.242, 'sharesShort': 49332744, 'sharesPercentSharesOut': 0.0066000004, 'fundFamily': None, 'lastFiscalYearEnd': 1625011200, 'heldPercentInstitutions': 0.71782994, 'netIncomeToCommon': 67882999808, 'trailingEps': 8.939, 'lastDividendValue': 0.62, 'SandP52WeekChange': 0.31316328, 'priceToBook': 16.9504, 'heldPercentInsiders': 0.00078, 'nextFiscalYearEnd': 1688083200, 'yield': None, 'mostRecentQuarter': 1632960000, 'shortRatio': 1.97, 'sharesShortPreviousMonthDate': 1632960000, 'floatShares': 7500172144, 'beta': 0.862337, 'enterpriseValue': 2524414214144, 'priceHint': 2, 'threeYearAverageReturn': None, 'lastSplitDate': 1045526400, 'lastSplitFactor': '2:1', 'legalType': None, 'lastDividendDate': 1637107200, 'morningStarOverallRating': None, 'earningsQuarterlyGrowth': 0.476, 'priceToSalesTrailing12Months': 14.615877, 'dateShortInterest': 1635465600, 'pegRatio': 2.24, 'ytdReturn': None, 'forwardPE': 32.584045, 'lastCapGain': None, 'shortPercentOfFloat': 0.0066000004, 'sharesShortPriorMonth': 47171313, 'impliedSharesOutstanding': None, 'category': None, 'fiveYearAverageReturn': None, 'previousClose': 341.27, 'regularMarketOpen': 342.64, 'twoHundredDayAverage': 273.8954, 'trailingAnnualDividendYield': 0.0067395316, 'payoutRatio': 0.25059998, 'volume24Hr': None, 'regularMarketDayHigh': 345.1, 'navPrice': None, 'averageDailyVolume10Day': 20944600, 'regularMarketPreviousClose': 341.27, 'fiftyDayAverage': 311.045, 'trailingAnnualDividendRate': 2.3, 'open': 342.64, 'toCurrency': None, 'averageVolume10days': 20944600, 'expireDate': None, 'algorithm': None, 'dividendRate': 2.48, 'exDividendDate': 1637107200, 'circulatingSupply': None, 'startDate': None, 'regularMarketDayLow': 342.25, 'currency': 'USD', 'trailingPE': 38.383488, 'regularMarketVolume': 21963433, 'lastMarket': None, 'maxSupply': None, 'openInterest': None, 'marketCap': 2576062873600, 'volumeAllCurrencies': None, 'strikePrice': None, 'averageVolume': 23349020, 'dayLow': 342.25, 'ask': 343.68, 'askSize': 1000, 'volume': 21963433, 'fiftyTwoWeekHigh': 345.1, 'fromCurrency': None, 'fiveYearAvgDividendYield': 1.45, 'fiftyTwoWeekLow': 208.16, 'bid': 343.21, 'tradeable': False, 'dividendYield': 0.0072000003, 'bidSize': 1400, 'dayHigh': 345.1, 'regularMarketPrice': 343.11, 'preMarketPrice': None, 'logo_url': 'https://logo.clearbit.com/microsoft.com'}\n"
     ]
    }
   ],
   "source": [
    "msft = yf.Ticker(\"MSFT\")\n",
    "print (msft.info)"
   ]
  },
  {
   "cell_type": "code",
   "execution_count": 3,
   "id": "578cbb3d",
   "metadata": {},
   "outputs": [
    {
     "name": "stdout",
     "output_type": "stream",
     "text": [
      "[*********************100%***********************]  2 of 2 completed\n",
      "                  Open        High         Low       Close   Adj Close  \\\n",
      "Date                                                                     \n",
      "2021-01-04  222.529999  223.000000  214.809998  217.690002  215.880417   \n",
      "2021-01-05  217.259995  218.520004  215.699997  217.899994  216.088684   \n",
      "2021-01-06  212.169998  216.490005  211.940002  212.250000  210.485626   \n",
      "2021-01-07  214.039993  219.339996  213.710007  218.289993  216.475418   \n",
      "2021-01-08  218.679993  220.580002  217.029999  219.619995  217.794373   \n",
      "...                ...         ...         ...         ...         ...   \n",
      "2021-04-23  257.880005  261.510010  257.269989  261.149994  259.575653   \n",
      "2021-04-26  261.660004  262.440002  260.170013  261.549988  259.973236   \n",
      "2021-04-27  261.579987  263.190002  260.119995  261.970001  260.390686   \n",
      "2021-04-28  256.079987  256.540009  252.949997  254.559998  253.025360   \n",
      "2021-04-29  255.460007  256.100006  249.000000  252.509995  250.987717   \n",
      "\n",
      "              Volume  \n",
      "Date                  \n",
      "2021-01-04  37130100  \n",
      "2021-01-05  23823000  \n",
      "2021-01-06  35930700  \n",
      "2021-01-07  27694500  \n",
      "2021-01-08  22956200  \n",
      "...              ...  \n",
      "2021-04-23  21462600  \n",
      "2021-04-26  19763300  \n",
      "2021-04-27  31014200  \n",
      "2021-04-28  46903100  \n",
      "2021-04-29  40589000  \n",
      "\n",
      "[81 rows x 6 columns]\n"
     ]
    }
   ],
   "source": [
    "msft_data=yf.download(\"MSFT TSLA\", start=\"2021-01-01\", end=\"2021-04-30\", group_by=\"Ticker\")\n",
    "print (msft_data[\"MSFT\"])"
   ]
  },
  {
   "cell_type": "code",
   "execution_count": null,
   "id": "2642239d",
   "metadata": {},
   "outputs": [],
   "source": []
  }
 ],
 "metadata": {
  "kernelspec": {
   "display_name": "Python 3 (ipykernel)",
   "language": "python",
   "name": "python3"
  },
  "language_info": {
   "codemirror_mode": {
    "name": "ipython",
    "version": 3
   },
   "file_extension": ".py",
   "mimetype": "text/x-python",
   "name": "python",
   "nbconvert_exporter": "python",
   "pygments_lexer": "ipython3",
   "version": "3.9.7"
  }
 },
 "nbformat": 4,
 "nbformat_minor": 5
}

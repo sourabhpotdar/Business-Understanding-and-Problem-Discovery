{
 "cells": [
  {
   "cell_type": "markdown",
   "id": "ae6af1f7",
   "metadata": {},
   "source": [
    "## Section 3.1: Extract data from Yahoo! Finance page\n",
    "<hr>\n",
    "\n",
    "This notebook does three things:\n",
    " - Load the ```yfinance``` module and the tickers from the output file of the previous notebook\n",
    " - Gets the top N tickers as specified by the user and gets the corresponding open price, closing price and volume of the stocks for the last 30 days.\n",
    " - Stores the values in a CSV file for further analysis and vizualization"
   ]
  },
  {
   "cell_type": "code",
   "execution_count": 17,
   "id": "fa7cc586",
   "metadata": {},
   "outputs": [],
   "source": [
    "import pandas as pd\n",
    "from datetime import date, timedelta"
   ]
  },
  {
   "cell_type": "code",
   "execution_count": 18,
   "id": "3dd2b4cb",
   "metadata": {
    "scrolled": true
   },
   "outputs": [
    {
     "name": "stdout",
     "output_type": "stream",
     "text": [
      "Yahoo! Finance module loaded.\n"
     ]
    }
   ],
   "source": [
    "#Loading yfinance module and installing it if it doesn't already exist\n",
    "try:\n",
    "    success_msg = 'Yahoo! Finance module loaded.'\n",
    "    import yfinance as yf\n",
    "    print(success_msg)\n",
    "except ModuleNotFoundError as e:\n",
    "    print('Installing Yahoo! Finance python module.\\n')\n",
    "    !pip install yfinance\n",
    "    import yfinance as yf\n",
    "    print(success_msg)"
   ]
  },
  {
   "cell_type": "code",
   "execution_count": 19,
   "id": "f50e9e7a",
   "metadata": {},
   "outputs": [],
   "source": [
    "# load the tickers dataframe from the previous notebook's output csv file\n",
    "df = pd.read_csv('./Outputfile.csv')"
   ]
  },
  {
   "cell_type": "code",
   "execution_count": 20,
   "id": "1e331dfd",
   "metadata": {},
   "outputs": [
    {
     "data": {
      "text/html": [
       "<div>\n",
       "<style scoped>\n",
       "    .dataframe tbody tr th:only-of-type {\n",
       "        vertical-align: middle;\n",
       "    }\n",
       "\n",
       "    .dataframe tbody tr th {\n",
       "        vertical-align: top;\n",
       "    }\n",
       "\n",
       "    .dataframe thead th {\n",
       "        text-align: right;\n",
       "    }\n",
       "</style>\n",
       "<table border=\"1\" class=\"dataframe\">\n",
       "  <thead>\n",
       "    <tr style=\"text-align: right;\">\n",
       "      <th></th>\n",
       "      <th>Date</th>\n",
       "      <th>Title</th>\n",
       "      <th>Ticker</th>\n",
       "      <th>Article URL</th>\n",
       "    </tr>\n",
       "  </thead>\n",
       "  <tbody>\n",
       "    <tr>\n",
       "      <th>0</th>\n",
       "      <td>2021-11-27 12:14:00</td>\n",
       "      <td>Tendances crypto dans l'iGaming : aperçus de ...</td>\n",
       "      <td>NaN</td>\n",
       "      <td>https://www.prnewswire.com/news-releases/tenda...</td>\n",
       "    </tr>\n",
       "    <tr>\n",
       "      <th>1</th>\n",
       "      <td>2021-11-27 12:09:00</td>\n",
       "      <td>Krypto-Trends im iGaming: SOFTSWISS Insights</td>\n",
       "      <td>NaN</td>\n",
       "      <td>https://www.prnewswire.com/news-releases/krypt...</td>\n",
       "    </tr>\n",
       "    <tr>\n",
       "      <th>2</th>\n",
       "      <td>2021-11-27 11:13:00</td>\n",
       "      <td>GAC MOTOR comemora um ano no Chile</td>\n",
       "      <td>NaN</td>\n",
       "      <td>https://www.prnewswire.com/news-releases/gac-m...</td>\n",
       "    </tr>\n",
       "    <tr>\n",
       "      <th>3</th>\n",
       "      <td>2021-11-27 11:00:00</td>\n",
       "      <td>BlueVine Announces U.S. Small Business Resili...</td>\n",
       "      <td>NaN</td>\n",
       "      <td>https://www.prnewswire.com/news-releases/bluev...</td>\n",
       "    </tr>\n",
       "    <tr>\n",
       "      <th>4</th>\n",
       "      <td>2021-11-27 09:30:00</td>\n",
       "      <td>Secondary Market Research Sourcing and Procur...</td>\n",
       "      <td>NaN</td>\n",
       "      <td>https://www.prnewswire.com/news-releases/secon...</td>\n",
       "    </tr>\n",
       "  </tbody>\n",
       "</table>\n",
       "</div>"
      ],
      "text/plain": [
       "                  Date                                              Title  \\\n",
       "0  2021-11-27 12:14:00   Tendances crypto dans l'iGaming : aperçus de ...   \n",
       "1  2021-11-27 12:09:00       Krypto-Trends im iGaming: SOFTSWISS Insights   \n",
       "2  2021-11-27 11:13:00                 GAC MOTOR comemora um ano no Chile   \n",
       "3  2021-11-27 11:00:00   BlueVine Announces U.S. Small Business Resili...   \n",
       "4  2021-11-27 09:30:00   Secondary Market Research Sourcing and Procur...   \n",
       "\n",
       "  Ticker                                        Article URL  \n",
       "0    NaN  https://www.prnewswire.com/news-releases/tenda...  \n",
       "1    NaN  https://www.prnewswire.com/news-releases/krypt...  \n",
       "2    NaN  https://www.prnewswire.com/news-releases/gac-m...  \n",
       "3    NaN  https://www.prnewswire.com/news-releases/bluev...  \n",
       "4    NaN  https://www.prnewswire.com/news-releases/secon...  "
      ]
     },
     "execution_count": 20,
     "metadata": {},
     "output_type": "execute_result"
    }
   ],
   "source": [
    "df.head()"
   ]
  },
  {
   "cell_type": "code",
   "execution_count": 21,
   "id": "0df63525",
   "metadata": {},
   "outputs": [
    {
     "name": "stdout",
     "output_type": "stream",
     "text": [
      "How many stocks do you want to analyze : 5\n"
     ]
    }
   ],
   "source": [
    "# Get the number of stocks the user wants to analyze\n",
    "num_of_stocks = int(input(\"How many stocks do you want to analyze : \"))"
   ]
  },
  {
   "cell_type": "code",
   "execution_count": 22,
   "id": "b69e0b69",
   "metadata": {},
   "outputs": [
    {
     "name": "stdout",
     "output_type": "stream",
     "text": [
      "['CTXS', 'CPLG', 'GOTU', 'SNAP', 'STNE']\n"
     ]
    }
   ],
   "source": [
    "# Get the num_of_stocks number of highest occuring tickers from the tickers dataframe \n",
    "tickers = df['Ticker'].dropna()\n",
    "top_tickers = tickers.value_counts()[:num_of_stocks].index.tolist()\n",
    "print(top_tickers)"
   ]
  },
  {
   "cell_type": "markdown",
   "id": "595e568e",
   "metadata": {},
   "source": [
    "Now that we have got the top N tickers we are going to loop through the list og tickers and download the last 1 month historical data using the `yfinance.download()` function. Then we add in the date column and ticker column to the dataset for the purpose of vizualization. Then we merge all the list of stocks and save it in a csv file."
   ]
  },
  {
   "cell_type": "code",
   "execution_count": 23,
   "id": "ca1341ad",
   "metadata": {},
   "outputs": [],
   "source": [
    "def get_histortical_data(top_tickers):\n",
    "    # create an empty list to store the historical stock details temporarily.\n",
    "    temp_dataframes = []\n",
    "    # loop through the list of top N tickers and download the historical data (last 1 month) for each\n",
    "    for tick in top_tickers:\n",
    "        temp_stock = yf.download(tick, start=(date.today()-timedelta(days=30)).isoformat(), end=date.today())\n",
    "\n",
    "        # add the date column to the dataframe \n",
    "        date_list = temp_stock.index\n",
    "        temp_stock['Date'] = date_list\n",
    "        temp_stock['Date'] = pd.to_datetime(temp_stock['Date']).dt.strftime('%Y-%m-%d')\n",
    "\n",
    "        # add the ticker column to the dataframe\n",
    "        temp_stock['Ticker'] = tick\n",
    "        # append the dataframe to the the temp_dataframes list\n",
    "        temp_dataframes.append(temp_stock)\n",
    "\n",
    "    # concatenate the list into a pandas dataframe and store it as CSV\n",
    "    all_tickers = pd.concat(temp_dataframes)\n",
    "    all_tickers.to_csv('Tickers.csv', index=False)\n",
    "    \n"
   ]
  },
  {
   "cell_type": "code",
   "execution_count": 24,
   "id": "c82c1476",
   "metadata": {},
   "outputs": [
    {
     "name": "stdout",
     "output_type": "stream",
     "text": [
      "[*********************100%***********************]  1 of 1 completed\n",
      "[*********************100%***********************]  1 of 1 completed\n",
      "[*********************100%***********************]  1 of 1 completed\n",
      "[*********************100%***********************]  1 of 1 completed\n",
      "[*********************100%***********************]  1 of 1 completed\n"
     ]
    }
   ],
   "source": [
    "get_histortical_data(top_tickers)"
   ]
  },
  {
   "cell_type": "markdown",
   "id": "566a8ec1",
   "metadata": {},
   "source": [
    "### Prediction \n",
    "<hr>\n",
    "\n",
    "Now that we have our historical data let us predict the future of the first highest occuring stock."
   ]
  },
  {
   "cell_type": "code",
   "execution_count": 31,
   "id": "d9dd522f",
   "metadata": {},
   "outputs": [
    {
     "data": {
      "text/html": [
       "<div>\n",
       "<style scoped>\n",
       "    .dataframe tbody tr th:only-of-type {\n",
       "        vertical-align: middle;\n",
       "    }\n",
       "\n",
       "    .dataframe tbody tr th {\n",
       "        vertical-align: top;\n",
       "    }\n",
       "\n",
       "    .dataframe thead th {\n",
       "        text-align: right;\n",
       "    }\n",
       "</style>\n",
       "<table border=\"1\" class=\"dataframe\">\n",
       "  <thead>\n",
       "    <tr style=\"text-align: right;\">\n",
       "      <th></th>\n",
       "      <th>Open</th>\n",
       "      <th>High</th>\n",
       "      <th>Low</th>\n",
       "      <th>Close</th>\n",
       "      <th>Adj Close</th>\n",
       "      <th>Volume</th>\n",
       "      <th>Date</th>\n",
       "      <th>Ticker</th>\n",
       "    </tr>\n",
       "  </thead>\n",
       "  <tbody>\n",
       "    <tr>\n",
       "      <th>0</th>\n",
       "      <td>90.529999</td>\n",
       "      <td>91.889999</td>\n",
       "      <td>89.580002</td>\n",
       "      <td>91.510002</td>\n",
       "      <td>91.082764</td>\n",
       "      <td>1852300</td>\n",
       "      <td>2021-11-08</td>\n",
       "      <td>CTXS</td>\n",
       "    </tr>\n",
       "    <tr>\n",
       "      <th>1</th>\n",
       "      <td>91.989998</td>\n",
       "      <td>92.169998</td>\n",
       "      <td>90.010002</td>\n",
       "      <td>90.349998</td>\n",
       "      <td>89.928177</td>\n",
       "      <td>1675800</td>\n",
       "      <td>2021-11-09</td>\n",
       "      <td>CTXS</td>\n",
       "    </tr>\n",
       "    <tr>\n",
       "      <th>2</th>\n",
       "      <td>90.160004</td>\n",
       "      <td>90.510002</td>\n",
       "      <td>88.360001</td>\n",
       "      <td>89.040001</td>\n",
       "      <td>88.624290</td>\n",
       "      <td>1277000</td>\n",
       "      <td>2021-11-10</td>\n",
       "      <td>CTXS</td>\n",
       "    </tr>\n",
       "    <tr>\n",
       "      <th>3</th>\n",
       "      <td>89.110001</td>\n",
       "      <td>89.400002</td>\n",
       "      <td>87.230003</td>\n",
       "      <td>87.360001</td>\n",
       "      <td>86.952133</td>\n",
       "      <td>918100</td>\n",
       "      <td>2021-11-11</td>\n",
       "      <td>CTXS</td>\n",
       "    </tr>\n",
       "    <tr>\n",
       "      <th>4</th>\n",
       "      <td>87.440002</td>\n",
       "      <td>89.989998</td>\n",
       "      <td>87.440002</td>\n",
       "      <td>89.680000</td>\n",
       "      <td>89.261307</td>\n",
       "      <td>2319700</td>\n",
       "      <td>2021-11-12</td>\n",
       "      <td>CTXS</td>\n",
       "    </tr>\n",
       "  </tbody>\n",
       "</table>\n",
       "</div>"
      ],
      "text/plain": [
       "        Open       High        Low      Close  Adj Close   Volume        Date  \\\n",
       "0  90.529999  91.889999  89.580002  91.510002  91.082764  1852300  2021-11-08   \n",
       "1  91.989998  92.169998  90.010002  90.349998  89.928177  1675800  2021-11-09   \n",
       "2  90.160004  90.510002  88.360001  89.040001  88.624290  1277000  2021-11-10   \n",
       "3  89.110001  89.400002  87.230003  87.360001  86.952133   918100  2021-11-11   \n",
       "4  87.440002  89.989998  87.440002  89.680000  89.261307  2319700  2021-11-12   \n",
       "\n",
       "  Ticker  \n",
       "0   CTXS  \n",
       "1   CTXS  \n",
       "2   CTXS  \n",
       "3   CTXS  \n",
       "4   CTXS  "
      ]
     },
     "execution_count": 31,
     "metadata": {},
     "output_type": "execute_result"
    }
   ],
   "source": [
    "# get the highest occuring stock\n",
    "predict_ticker = tickers.value_counts()[:1].index.tolist()\n",
    "# get the dataset of that particular stock from the Tickers.csv file\n",
    "predict_df = pd.read_csv('Tickers.csv')\n",
    "predict_df = predict_df[predict_df['Ticker'] == \"\".join(predict_ticker)]\n",
    "predict_df.head()"
   ]
  },
  {
   "cell_type": "code",
   "execution_count": 36,
   "id": "451ec3c5",
   "metadata": {},
   "outputs": [
    {
     "name": "stdout",
     "output_type": "stream",
     "text": [
      "========================= WAIT BEFORE BUYING STOCK !!!! =========================\n"
     ]
    }
   ],
   "source": [
    "top_ticker_close = list(predict_df['Close'])\n",
    "\n",
    "# check if the data is strictly increasing. \n",
    "if(all(i < j for i, j in zip(top_ticker_close, top_ticker_close[1:]))):\n",
    "    print(\"========================= BUY STOCK !!!! =========================\")\n",
    "# check if the data is strictly decreasing. \n",
    "elif(all( i > j for i, j in zip(top_ticker_close, top_ticker_close[1:]))):\n",
    "    print(\"========================= DONT BUY STOCK !!!! =========================\")\n",
    "else:\n",
    "    print(\"========================= WAIT BEFORE BUYING STOCK !!!! =========================\")"
   ]
  }
 ],
 "metadata": {
  "kernelspec": {
   "display_name": "Python 3 (ipykernel)",
   "language": "python",
   "name": "python3"
  },
  "language_info": {
   "codemirror_mode": {
    "name": "ipython",
    "version": 3
   },
   "file_extension": ".py",
   "mimetype": "text/x-python",
   "name": "python",
   "nbconvert_exporter": "python",
   "pygments_lexer": "ipython3",
   "version": "3.9.7"
  }
 },
 "nbformat": 4,
 "nbformat_minor": 5
}
